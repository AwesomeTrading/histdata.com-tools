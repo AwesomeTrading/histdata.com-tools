{
 "cells": [
  {
   "cell_type": "code",
   "execution_count": 1,
   "metadata": {},
   "outputs": [],
   "source": [
    "# import histdatacom\n",
    "# from histdatacom.options import Options"
   ]
  },
  {
   "cell_type": "code",
   "execution_count": 2,
   "metadata": {},
   "outputs": [],
   "source": [
    "# options = Options()"
   ]
  },
  {
   "cell_type": "code",
   "execution_count": 3,
   "metadata": {},
   "outputs": [],
   "source": [
    "# options.api_return_type = \"pandas\"\n",
    "# options.formats = {\"ascii\"}\n",
    "# options.timeframes = {\"1-minute-bar-quotes\"}\n",
    "# options.pairs = {\"eurusd\",\"usdcad\"}\n",
    "# options.start_yearmonth = \"2021-01\"\n",
    "# options.end_yearmonth = \"now\"\n",
    "# options.cpu_utilization = \"medium\""
   ]
  },
  {
   "cell_type": "code",
   "execution_count": 4,
   "metadata": {},
   "outputs": [],
   "source": [
    "# data = histdatacom(options)  # (Jupyter)"
   ]
  },
  {
   "cell_type": "code",
   "execution_count": 5,
   "metadata": {},
   "outputs": [],
   "source": [
    "# print(data)\n",
    "# print(type(data))"
   ]
  },
  {
   "cell_type": "code",
   "execution_count": 6,
   "metadata": {},
   "outputs": [],
   "source": [
    "# print(data[0]['timeframe'], data[0]['pair'])\n",
    "# print(data[0]['data'])\n",
    "# print(type(data[0]['data']))"
   ]
  },
  {
   "cell_type": "code",
   "execution_count": 7,
   "metadata": {},
   "outputs": [
    {
     "data": {
      "text/html": [
       "<style type='text/css'>\n",
       ".datatable table.frame { margin-bottom: 0; }\n",
       ".datatable table.frame thead { border-bottom: none; }\n",
       ".datatable table.frame tr.coltypes td {  color: #FFFFFF;  line-height: 6px;  padding: 0 0.5em;}\n",
       ".datatable .bool    { background: #DDDD99; }\n",
       ".datatable .object  { background: #565656; }\n",
       ".datatable .int     { background: #5D9E5D; }\n",
       ".datatable .float   { background: #4040CC; }\n",
       ".datatable .str     { background: #CC4040; }\n",
       ".datatable .time    { background: #40CC40; }\n",
       ".datatable .row_index {  background: var(--jp-border-color3);  border-right: 1px solid var(--jp-border-color0);  color: var(--jp-ui-font-color3);  font-size: 9px;}\n",
       ".datatable .frame tbody td { text-align: left; }\n",
       ".datatable .frame tr.coltypes .row_index {  background: var(--jp-border-color0);}\n",
       ".datatable th:nth-child(2) { padding-left: 12px; }\n",
       ".datatable .hellipsis {  color: var(--jp-cell-editor-border-color);}\n",
       ".datatable .vellipsis {  background: var(--jp-layout-color0);  color: var(--jp-cell-editor-border-color);}\n",
       ".datatable .na {  color: var(--jp-cell-editor-border-color);  font-size: 80%;}\n",
       ".datatable .sp {  opacity: 0.25;}\n",
       ".datatable .footer { font-size: 9px; }\n",
       ".datatable .frame_dimensions {  background: var(--jp-border-color3);  border-top: 1px solid var(--jp-border-color0);  color: var(--jp-ui-font-color3);  display: inline-block;  opacity: 0.6;  padding: 1px 10px 1px 5px;}\n",
       "</style>\n"
      ],
      "text/plain": [
       "<IPython.core.display.HTML object>"
      ]
     },
     "metadata": {},
     "output_type": "display_data"
    },
    {
     "name": "stdout",
     "output_type": "stream",
     "text": [
      "1643692697193\n"
     ]
    }
   ],
   "source": [
    "from histdatacom.influx import _Influx\n",
    "\n",
    "# 20220201 001817193,0.658910,0.659050,0\n",
    "row = {\n",
    "    'msSinceEpochUTC': \"20220201 001817193\",\n",
    "    'bidQuote': \"0.658910\",\n",
    "    'askQuote': \"0.659050\",\n",
    "    \"vol\": \"0\"\n",
    "\n",
    "\n",
    "}\n",
    "\n",
    "\n",
    "print(_Influx.convert_datetime_to_utc_timestamp(\"ASCII\",\"T\", row))\n",
    "# f\"openbid={row['openBid']},highbid={row['highBid']},lowbid={row['lowBid']},closebid={row['closeBid']}\".replace(\" \", \"\")\n"
   ]
  },
  {
   "cell_type": "code",
   "execution_count": 8,
   "metadata": {},
   "outputs": [
    {
     "name": "stdout",
     "output_type": "stream",
     "text": [
      "1436311440000\n"
     ]
    }
   ],
   "source": [
    "row = {\n",
    "    'msSinceEpochUTC': \"20150707 182400\",\n",
    "    'openBid': \"17668.000000\",\n",
    "    'highBid': \"17668.000000\",\n",
    "    'lowbid': \"17668.000000\",\n",
    "    'closeBid': \"17668.000000\",\n",
    "    \"vol\": \"0\"\n",
    "\n",
    "\n",
    "}\n",
    "\n",
    "print(_Influx.convert_datetime_to_utc_timestamp(\"ASCII\",\"M1\", row))"
   ]
  }
 ],
 "metadata": {
  "interpreter": {
   "hash": "24865e6352e796dd493759130793adc760420b49598acb5b9faafcaf76156ec0"
  },
  "kernelspec": {
   "display_name": "Python 3.10.4 ('venv': venv)",
   "language": "python",
   "name": "python3"
  },
  "language_info": {
   "codemirror_mode": {
    "name": "ipython",
    "version": 3
   },
   "file_extension": ".py",
   "mimetype": "text/x-python",
   "name": "python",
   "nbconvert_exporter": "python",
   "pygments_lexer": "ipython3",
   "version": "3.10.4"
  },
  "orig_nbformat": 4
 },
 "nbformat": 4,
 "nbformat_minor": 2
}
