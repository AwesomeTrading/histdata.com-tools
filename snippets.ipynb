{
 "cells": [
  {
   "cell_type": "code",
   "execution_count": 1,
   "metadata": {},
   "outputs": [
    {
     "data": {
      "text/html": [
       "<pre style=\"white-space:pre;overflow-x:auto;line-height:normal;font-family:Menlo,'DejaVu Sans Mono',consolas,'Courier New',monospace\"><span style=\"color: #008080; text-decoration-color: #008080\">Merging 4 records...</span> <span style=\"color: #3a3a3a; text-decoration-color: #3a3a3a\">━━━━━━━━━━━━━━━━━━━━━━━━━━━━━━━━━━━━━━━━</span> <span style=\"color: #800080; text-decoration-color: #800080\">  0%</span> <span style=\"color: #808000; text-decoration-color: #808000\">0:00:00</span>\n",
       "</pre>\n"
      ],
      "text/plain": [
       "\u001b[36mMerging 4 records...\u001b[0m \u001b[38;5;237m━━━━━━━━━━━━━━━━━━━━━━━━━━━━━━━━━━━━━━━━\u001b[0m \u001b[35m  0%\u001b[0m \u001b[33m0:00:00\u001b[0m\n"
      ]
     },
     "metadata": {},
     "output_type": "display_data"
    },
    {
     "data": {
      "text/html": [
       "<pre style=\"white-space:pre;overflow-x:auto;line-height:normal;font-family:Menlo,'DejaVu Sans Mono',consolas,'Courier New',monospace\"></pre>\n"
      ],
      "text/plain": []
     },
     "metadata": {},
     "output_type": "display_data"
    },
    {
     "data": {
      "text/html": [
       "<pre style=\"white-space:pre;overflow-x:auto;line-height:normal;font-family:Menlo,'DejaVu Sans Mono',consolas,'Courier New',monospace\">\n",
       "</pre>\n"
      ],
      "text/plain": [
       "\n"
      ]
     },
     "metadata": {},
     "output_type": "display_data"
    }
   ],
   "source": [
    "import histdatacom\n",
    "from histdatacom.options import Options\n",
    "options = Options()\n",
    "\n",
    "import datatable as dt\n",
    "from datatable import f\n",
    "from datatable import update\n",
    "\n",
    "options.api_return_type = \"pandas\"  # \"datatable\", \"pandas\", or \"arrow\"\n",
    "options.formats = {\"ascii\"}  # Must be {\"ascii\"}\n",
    "options.timeframes = {\"tick-data-quotes\"}  # can be tick-data-quotes or 1-minute-bar-quotes\n",
    "options.pairs = {\"eurusd\"}\n",
    "options.start_yearmonth = \"2021-04\"\n",
    "options.end_yearmonth = \"now\"\n",
    "options.cpu_utilization = \"high\"\n",
    "\n",
    "data = histdatacom(options)  # (Jupyter)"
   ]
  },
  {
   "cell_type": "code",
   "execution_count": null,
   "metadata": {},
   "outputs": [],
   "source": [
    "# DT = data.copy()\n",
    "# print(f\"\"\"\n",
    "#     type: {type(DT)}\n",
    "#     shape: {DT.shape}\n",
    "#     names: {DT.names}\n",
    "#     types: {DT.stypes}\\n\\n\"\"\",\n",
    "#     DT[0:5,:])\n"
   ]
  },
  {
   "cell_type": "code",
   "execution_count": null,
   "metadata": {},
   "outputs": [],
   "source": [
    "# DT = data.copy()\n",
    "# dt_timestamp_to_datetime = ((f.datetime * 10**6).as_type(dt.Type.time64))\n",
    "# DT[:, update(datetime = dt_timestamp_to_datetime)]\n",
    "# print(f\"\"\"\n",
    "#     type: {type(DT)}\n",
    "#     shape: {DT.shape}\n",
    "#     names: {DT.names}\n",
    "#     types: {DT.stypes}\\n\\n\"\"\",\n",
    "#     DT[0:5,:])"
   ]
  },
  {
   "cell_type": "code",
   "execution_count": 2,
   "metadata": {},
   "outputs": [],
   "source": [
    "data_list = data.copy()"
   ]
  },
  {
   "cell_type": "code",
   "execution_count": 3,
   "metadata": {},
   "outputs": [
    {
     "name": "stdout",
     "output_type": "stream",
     "text": [
      "[{'timeframe': 'M1', 'pair': 'USDCAD', 'records': [<histdatacom.records.Record object at 0x106f7ffd0>, <histdatacom.records.Record object at 0x1059793c0>, <histdatacom.records.Record object at 0x106f7ff10>, <histdatacom.records.Record object at 0x106f7fee0>, <histdatacom.records.Record object at 0x106f7ff40>], 'data':              datetime     open     high      low    close  vol\n",
      "0       1609711200000  1.27136  1.27201  1.27136  1.27201    0\n",
      "1       1609711260000  1.27207  1.27241  1.27207  1.27220    0\n",
      "2       1609711320000  1.27211  1.27219  1.27211  1.27219    0\n",
      "3       1609711380000  1.27212  1.27261  1.27212  1.27261    0\n",
      "4       1609711440000  1.27268  1.27268  1.27261  1.27261    0\n",
      "...               ...      ...      ...      ...      ...  ...\n",
      "483946  1650664440000  1.27121  1.27132  1.27114  1.27131    0\n",
      "483947  1650664500000  1.27129  1.27137  1.27102  1.27106    0\n",
      "483948  1650664560000  1.27107  1.27114  1.27098  1.27101    0\n",
      "483949  1650664620000  1.27105  1.27105  1.27091  1.27091    0\n",
      "483950  1650664680000  1.27091  1.27097  1.27073  1.27097    0\n",
      "\n",
      "[483951 rows x 6 columns]}, {'timeframe': 'M1', 'pair': 'EURUSD', 'records': [<histdatacom.records.Record object at 0x105979990>, <histdatacom.records.Record object at 0x1059796c0>, <histdatacom.records.Record object at 0x1059796f0>, <histdatacom.records.Record object at 0x105979a50>, <histdatacom.records.Record object at 0x1059798a0>], 'data':              datetime     open     high      low    close  vol\n",
      "0       1609711200000  1.22396  1.22396  1.22373  1.22395    0\n",
      "1       1609711260000  1.22387  1.22420  1.22385  1.22395    0\n",
      "2       1609711320000  1.22396  1.22398  1.22382  1.22382    0\n",
      "3       1609711380000  1.22383  1.22396  1.22376  1.22378    0\n",
      "4       1609711440000  1.22378  1.22385  1.22296  1.22347    0\n",
      "...               ...      ...      ...      ...      ...  ...\n",
      "484172  1650664440000  1.07976  1.08014  1.07976  1.08014    0\n",
      "484173  1650664500000  1.08013  1.08021  1.07997  1.08000    0\n",
      "484174  1650664560000  1.08000  1.08000  1.07956  1.07968    0\n",
      "484175  1650664620000  1.07980  1.07980  1.07958  1.07968    0\n",
      "484176  1650664680000  1.07980  1.07986  1.07963  1.07963    0\n",
      "\n",
      "[484177 rows x 6 columns]}]\n"
     ]
    }
   ],
   "source": [
    "print(data_list)"
   ]
  },
  {
   "cell_type": "code",
   "execution_count": null,
   "metadata": {},
   "outputs": [],
   "source": []
  },
  {
   "cell_type": "code",
   "execution_count": null,
   "metadata": {},
   "outputs": [],
   "source": []
  },
  {
   "cell_type": "code",
   "execution_count": null,
   "metadata": {},
   "outputs": [],
   "source": []
  },
  {
   "cell_type": "code",
   "execution_count": null,
   "metadata": {},
   "outputs": [],
   "source": []
  },
  {
   "cell_type": "code",
   "execution_count": null,
   "metadata": {},
   "outputs": [],
   "source": [
    "options.api_return_type = \"pandas\"\n",
    "options.formats = {\"ascii\"}\n",
    "options.timeframes = {\"1-minute-bar-quotes\"}\n",
    "options.pairs = {\"eurusd\",\"usdcad\"}\n",
    "options.start_yearmonth = \"2021-01\"\n",
    "options.end_yearmonth = \"now\"\n",
    "options.cpu_utilization = \"75\""
   ]
  }
 ],
 "metadata": {
  "interpreter": {
   "hash": "24865e6352e796dd493759130793adc760420b49598acb5b9faafcaf76156ec0"
  },
  "kernelspec": {
   "display_name": "Python 3.10.4 ('venv': venv)",
   "language": "python",
   "name": "python3"
  },
  "language_info": {
   "codemirror_mode": {
    "name": "ipython",
    "version": 3
   },
   "file_extension": ".py",
   "mimetype": "text/x-python",
   "name": "python",
   "nbconvert_exporter": "python",
   "pygments_lexer": "ipython3",
   "version": "3.10.4"
  },
  "orig_nbformat": 4
 },
 "nbformat": 4,
 "nbformat_minor": 2
}
