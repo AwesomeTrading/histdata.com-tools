{
 "cells": [
  {
   "cell_type": "code",
   "execution_count": 5,
   "metadata": {},
   "outputs": [
    {
     "data": {
      "text/html": [
       "<pre style=\"white-space:pre;overflow-x:auto;line-height:normal;font-family:Menlo,'DejaVu Sans Mono',consolas,'Courier New',monospace\"><span style=\"color: #008080; text-decoration-color: #008080\">Merging 4 records...</span> <span style=\"color: #3a3a3a; text-decoration-color: #3a3a3a\">━━━━━━━━━━━━━━━━━━━━━━━━━━━━━━━━━━━━━━━━</span> <span style=\"color: #800080; text-decoration-color: #800080\">  0%</span> <span style=\"color: #808000; text-decoration-color: #808000\">0:00:00</span>\n",
       "</pre>\n"
      ],
      "text/plain": [
       "\u001b[36mMerging 4 records...\u001b[0m \u001b[38;5;237m━━━━━━━━━━━━━━━━━━━━━━━━━━━━━━━━━━━━━━━━\u001b[0m \u001b[35m  0%\u001b[0m \u001b[33m0:00:00\u001b[0m\n"
      ]
     },
     "metadata": {},
     "output_type": "display_data"
    },
    {
     "data": {
      "text/html": [
       "<pre style=\"white-space:pre;overflow-x:auto;line-height:normal;font-family:Menlo,'DejaVu Sans Mono',consolas,'Courier New',monospace\"></pre>\n"
      ],
      "text/plain": []
     },
     "metadata": {},
     "output_type": "display_data"
    },
    {
     "data": {
      "text/html": [
       "<pre style=\"white-space:pre;overflow-x:auto;line-height:normal;font-family:Menlo,'DejaVu Sans Mono',consolas,'Courier New',monospace\">\n",
       "</pre>\n"
      ],
      "text/plain": [
       "\n"
      ]
     },
     "metadata": {},
     "output_type": "display_data"
    }
   ],
   "source": [
    "import histdatacom\n",
    "from histdatacom.options import Options\n",
    "options = Options()\n",
    "\n",
    "import datatable as dt\n",
    "from datatable import f\n",
    "from datatable import update\n",
    "\n",
    "options.api_return_type = \"pandas\"  # \"datatable\", \"pandas\", or \"arrow\"\n",
    "options.formats = {\"ascii\"}  # Must be {\"ascii\"}\n",
    "options.timeframes = {\"tick-data-quotes\"}  # can be tick-data-quotes or 1-minute-bar-quotes\n",
    "options.pairs = {\"eurusd\"}\n",
    "options.start_yearmonth = \"2021-04\"\n",
    "options.end_yearmonth = \"now\"\n",
    "options.cpu_utilization = \"high\"\n",
    "\n",
    "data = histdatacom(options)  # (Jupyter)"
   ]
  },
  {
   "cell_type": "code",
   "execution_count": null,
   "metadata": {},
   "outputs": [],
   "source": [
    "# DT = data.copy()\n",
    "# print(f\"\"\"\n",
    "#     type: {type(DT)}\n",
    "#     shape: {DT.shape}\n",
    "#     names: {DT.names}\n",
    "#     types: {DT.stypes}\\n\\n\"\"\",\n",
    "#     DT[0:5,:])\n"
   ]
  },
  {
   "cell_type": "code",
   "execution_count": null,
   "metadata": {},
   "outputs": [],
   "source": [
    "# DT = data.copy()\n",
    "# dt_timestamp_to_datetime = ((f.datetime * 10**6).as_type(dt.Type.time64))\n",
    "# DT[:, update(datetime = dt_timestamp_to_datetime)]\n",
    "# print(f\"\"\"\n",
    "#     type: {type(DT)}\n",
    "#     shape: {DT.shape}\n",
    "#     names: {DT.names}\n",
    "#     types: {DT.stypes}\\n\\n\"\"\",\n",
    "#     DT[0:5,:])"
   ]
  },
  {
   "cell_type": "code",
   "execution_count": 6,
   "metadata": {},
   "outputs": [],
   "source": [
    "data_list = data.copy()"
   ]
  },
  {
   "cell_type": "code",
   "execution_count": 7,
   "metadata": {},
   "outputs": [
    {
     "name": "stdout",
     "output_type": "stream",
     "text": [
      "               datetime      bid      ask  vol\n",
      "0         1617253200478  1.17243  1.17244    0\n",
      "1         1617253206261  1.17246  1.17248    0\n",
      "2         1617253206362  1.17247  1.17249    0\n",
      "3         1617253206946  1.17247  1.17250    0\n",
      "4         1617253207121  1.17249  1.17250    0\n",
      "...                 ...      ...      ...  ...\n",
      "18648493  1650664783081  1.07968  1.08042    0\n",
      "18648494  1650664783182  1.07968  1.08039    0\n",
      "18648495  1650664790108  1.07964  1.08032    0\n",
      "18648496  1650664790958  1.07947  1.08032    0\n",
      "18648497  1650664794462  1.07947  1.08032    0\n",
      "\n",
      "[18648498 rows x 4 columns]\n"
     ]
    }
   ],
   "source": [
    "print(data_list)"
   ]
  },
  {
   "cell_type": "code",
   "execution_count": null,
   "metadata": {},
   "outputs": [],
   "source": []
  },
  {
   "cell_type": "code",
   "execution_count": null,
   "metadata": {},
   "outputs": [],
   "source": []
  },
  {
   "cell_type": "code",
   "execution_count": null,
   "metadata": {},
   "outputs": [],
   "source": []
  },
  {
   "cell_type": "code",
   "execution_count": null,
   "metadata": {},
   "outputs": [],
   "source": []
  },
  {
   "cell_type": "code",
   "execution_count": null,
   "metadata": {},
   "outputs": [],
   "source": [
    "options.api_return_type = \"pandas\"\n",
    "options.formats = {\"ascii\"}\n",
    "options.timeframes = {\"1-minute-bar-quotes\"}\n",
    "options.pairs = {\"eurusd\",\"usdcad\"}\n",
    "options.start_yearmonth = \"2021-01\"\n",
    "options.end_yearmonth = \"now\"\n",
    "options.cpu_utilization = \"75\""
   ]
  }
 ],
 "metadata": {
  "interpreter": {
   "hash": "24865e6352e796dd493759130793adc760420b49598acb5b9faafcaf76156ec0"
  },
  "kernelspec": {
   "display_name": "Python 3.10.4 ('venv': venv)",
   "language": "python",
   "name": "python3"
  },
  "language_info": {
   "codemirror_mode": {
    "name": "ipython",
    "version": 3
   },
   "file_extension": ".py",
   "mimetype": "text/x-python",
   "name": "python",
   "nbconvert_exporter": "python",
   "pygments_lexer": "ipython3",
   "version": "3.10.4"
  },
  "orig_nbformat": 4
 },
 "nbformat": 4,
 "nbformat_minor": 2
}
