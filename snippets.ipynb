{
 "cells": [
  {
   "cell_type": "code",
   "execution_count": null,
   "metadata": {},
   "outputs": [],
   "source": [
    "import histdatacom\n",
    "from histdatacom.options import Options\n",
    "options = Options()\n",
    "\n",
    "import datatable as dt\n",
    "from datatable import f\n",
    "from datatable import update\n",
    "\n",
    "options.api_return_type = \"datatable\"\n",
    "options.formats = {\"ascii\"}\n",
    "options.timeframes = {\"tick-data-quotes\"}\n",
    "options.pairs = {\"eurusd\"}\n",
    "options.start_yearmonth = \"2000-04\"\n",
    "options.end_yearmonth = \"2000-05\"\n",
    "options.cpu_utilization = \"high\"\n",
    "\n",
    "data = histdatacom(options)  # (Jupyter)"
   ]
  },
  {
   "cell_type": "code",
   "execution_count": null,
   "metadata": {},
   "outputs": [],
   "source": [
    "DT = data.copy()\n",
    "print(f\"\"\"\n",
    "    type: {type(DT)}\n",
    "    shape: {DT.shape}\n",
    "    names: {DT.names}\n",
    "    types: {DT.stypes}\\n\\n\"\"\",\n",
    "    DT[0:5,:])\n"
   ]
  },
  {
   "cell_type": "code",
   "execution_count": null,
   "metadata": {},
   "outputs": [],
   "source": [
    "DT = data.copy()\n",
    "dt_timestamp_to_datetime = ((f.datetime * 10**6).as_type(dt.Type.time64))\n",
    "DT[:, update(datetime = dt_timestamp_to_datetime)]\n",
    "print(f\"\"\"\n",
    "    type: {type(DT)}\n",
    "    shape: {DT.shape}\n",
    "    names: {DT.names}\n",
    "    types: {DT.stypes}\\n\\n\"\"\",\n",
    "    DT[0:5,:])"
   ]
  },
  {
   "cell_type": "code",
   "execution_count": null,
   "metadata": {},
   "outputs": [],
   "source": [
    "DT = data.copy()\n",
    "import rx\n",
    "from rx import operators as ops\n",
    "from functools import partial\n",
    "from collections import namedtuple\n",
    "from histdatacom.records import Record"
   ]
  },
  {
   "cell_type": "code",
   "execution_count": null,
   "metadata": {},
   "outputs": [],
   "source": [
    " new_record = Record(\n",
    "     data_fxpair = \"EURUSD\",\n",
    "     data_format = \"ASCII\",\n",
    "     data_timeframe = \"T\",\n",
    " )"
   ]
  },
  {
   "cell_type": "code",
   "execution_count": null,
   "metadata": {},
   "outputs": [],
   "source": [
    "def parse_jay_row(row, record):\n",
    "    measurement = f\"{record.data_fxpair}\"\n",
    "    tags = f\"source=histdata.com,format={record.data_format},timeframe={record.data_timeframe}\".replace(\" \", \"\")\n",
    "\n",
    "    match record.data_timeframe:\n",
    "        case \"M1\":\n",
    "            Row = namedtuple('Row', ['datetime', 'open', 'high', 'low', 'close', 'vol'])\n",
    "            named_row = Row(row[0], row[1], row[2], row[3], row[4], row[5])\n",
    "\n",
    "            fields = f\"openbid={named_row.open},highbid={named_row.high},lowbid={named_row.low},closebid={named_row.close}\".replace(\" \", \"\")\n",
    "            time = str(named_row.datetime)\n",
    "        case \"T\":\n",
    "            Row = namedtuple('Row', ['datetime','bid','ask','vol'])\n",
    "            named_row = Row(row[0], row[1], row[2], row[3])\n",
    "\n",
    "            fields = f\"bidquote={named_row.bid},askquote={named_row.ask}\".replace(\" \", \"\")\n",
    "            time = str(named_row.datetime)\n",
    "    \n",
    "    line_protocol = f\"{measurement},{tags} {fields} {time}\"\n",
    "\n",
    "    return line_protocol"
   ]
  },
  {
   "cell_type": "code",
   "execution_count": null,
   "metadata": {},
   "outputs": [],
   "source": [
    "def parse_jay_rows(iterable, record):\n",
    "    mapfunc = partial(parse_row, record=record)\n",
    "    parsed_rows = list(map(mapfunc, iterable))\n",
    "\n",
    "    return (parsed_rows)"
   ]
  },
  {
   "cell_type": "code",
   "execution_count": null,
   "metadata": {},
   "outputs": [],
   "source": [
    "rx_data = rx.from_iterable(DT.to_tuples()).pipe(ops.buffer_with_count(25_000),\n",
    "                                    ops.flat_map(lambda rows: parse_rows(rows, new_record)))\n"
   ]
  },
  {
   "cell_type": "code",
   "execution_count": null,
   "metadata": {},
   "outputs": [],
   "source": [
    "rx_data.subscribe(on_next=lambda x: None, \n",
    "                  on_error=lambda er: print(f\"Unexpected error: {er}\"))"
   ]
  }
 ],
 "metadata": {
  "interpreter": {
   "hash": "24865e6352e796dd493759130793adc760420b49598acb5b9faafcaf76156ec0"
  },
  "kernelspec": {
   "display_name": "Python 3.10.4 ('venv': venv)",
   "language": "python",
   "name": "python3"
  },
  "language_info": {
   "codemirror_mode": {
    "name": "ipython",
    "version": 3
   },
   "file_extension": ".py",
   "mimetype": "text/x-python",
   "name": "python",
   "nbconvert_exporter": "python",
   "pygments_lexer": "ipython3",
   "version": "3.10.4"
  },
  "orig_nbformat": 4
 },
 "nbformat": 4,
 "nbformat_minor": 2
}
