{
 "cells": [
  {
   "cell_type": "code",
   "execution_count": null,
   "metadata": {},
   "outputs": [],
   "source": [
    "import histdatacom\n",
    "from histdatacom.options import Options\n",
    "options = Options()\n",
    "\n",
    "options.api_return_type = \"pandas\"  # \"datatable\", \"pandas\", or \"arrow\"\n",
    "options.formats = {\"ascii\"}  # Must be {\"ascii\"}\n",
    "options.timeframes = {\"tick-data-quotes\"}  # can be tick-data-quotes or 1-minute-bar-quotes\n",
    "options.pairs = {\"eurusd\"}\n",
    "options.start_yearmonth = \"2020-01\"\n",
    "options.end_yearmonth = \"now\"\n",
    "options.cpu_utilization = \"high\"\n",
    "\n",
    "data = histdatacom(options)  # (Jupyter)"
   ]
  },
  {
   "cell_type": "code",
   "execution_count": null,
   "metadata": {},
   "outputs": [],
   "source": [
    "data_list = data.copy()"
   ]
  },
  {
   "cell_type": "code",
   "execution_count": null,
   "metadata": {},
   "outputs": [],
   "source": [
    "print(data_list)"
   ]
  },
  {
   "cell_type": "code",
   "execution_count": null,
   "metadata": {},
   "outputs": [],
   "source": [
    "# DT = data.copy()\n",
    "# print(f\"\"\"\n",
    "#     type: {type(DT)}\n",
    "#     shape: {DT.shape}\n",
    "#     names: {DT.names}\n",
    "#     types: {DT.stypes}\\n\\n\"\"\",\n",
    "#     DT[0:5,:])\n"
   ]
  },
  {
   "cell_type": "code",
   "execution_count": null,
   "metadata": {},
   "outputs": [],
   "source": [
    "# DT = data.copy()\n",
    "# dt_timestamp_to_datetime = ((f.datetime * 10**6).as_type(dt.Type.time64))\n",
    "# DT[:, update(datetime = dt_timestamp_to_datetime)]\n",
    "# print(f\"\"\"\n",
    "#     type: {type(DT)}\n",
    "#     shape: {DT.shape}\n",
    "#     names: {DT.names}\n",
    "#     types: {DT.stypes}\\n\\n\"\"\",\n",
    "#     DT[0:5,:])"
   ]
  },
  {
   "cell_type": "code",
   "execution_count": null,
   "metadata": {},
   "outputs": [],
   "source": []
  },
  {
   "cell_type": "code",
   "execution_count": null,
   "metadata": {},
   "outputs": [],
   "source": []
  },
  {
   "cell_type": "code",
   "execution_count": null,
   "metadata": {},
   "outputs": [],
   "source": []
  },
  {
   "cell_type": "code",
   "execution_count": null,
   "metadata": {},
   "outputs": [],
   "source": []
  },
  {
   "cell_type": "code",
   "execution_count": null,
   "metadata": {},
   "outputs": [],
   "source": [
    "options.api_return_type = \"pandas\"\n",
    "options.formats = {\"ascii\"}\n",
    "options.timeframes = {\"1-minute-bar-quotes\"}\n",
    "options.pairs = {\"eurusd\",\"usdcad\"}\n",
    "options.start_yearmonth = \"2021-01\"\n",
    "options.end_yearmonth = \"now\"\n",
    "options.cpu_utilization = \"75\""
   ]
  }
 ],
 "metadata": {
  "interpreter": {
   "hash": "24865e6352e796dd493759130793adc760420b49598acb5b9faafcaf76156ec0"
  },
  "kernelspec": {
   "display_name": "Python 3.10.4 ('venv': venv)",
   "language": "python",
   "name": "python3"
  },
  "language_info": {
   "codemirror_mode": {
    "name": "ipython",
    "version": 3
   },
   "file_extension": ".py",
   "mimetype": "text/x-python",
   "name": "python",
   "nbconvert_exporter": "python",
   "pygments_lexer": "ipython3",
   "version": "3.10.8"
  },
  "orig_nbformat": 4
 },
 "nbformat": 4,
 "nbformat_minor": 2
}
