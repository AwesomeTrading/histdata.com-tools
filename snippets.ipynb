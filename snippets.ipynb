{
 "cells": [
  {
   "cell_type": "code",
   "execution_count": 1,
   "metadata": {},
   "outputs": [
    {
     "data": {
      "text/html": [
       "<style type='text/css'>\n",
       ".datatable table.frame { margin-bottom: 0; }\n",
       ".datatable table.frame thead { border-bottom: none; }\n",
       ".datatable table.frame tr.coltypes td {  color: #FFFFFF;  line-height: 6px;  padding: 0 0.5em;}\n",
       ".datatable .bool    { background: #DDDD99; }\n",
       ".datatable .object  { background: #565656; }\n",
       ".datatable .int     { background: #5D9E5D; }\n",
       ".datatable .float   { background: #4040CC; }\n",
       ".datatable .str     { background: #CC4040; }\n",
       ".datatable .time    { background: #40CC40; }\n",
       ".datatable .row_index {  background: var(--jp-border-color3);  border-right: 1px solid var(--jp-border-color0);  color: var(--jp-ui-font-color3);  font-size: 9px;}\n",
       ".datatable .frame tbody td { text-align: left; }\n",
       ".datatable .frame tr.coltypes .row_index {  background: var(--jp-border-color0);}\n",
       ".datatable th:nth-child(2) { padding-left: 12px; }\n",
       ".datatable .hellipsis {  color: var(--jp-cell-editor-border-color);}\n",
       ".datatable .vellipsis {  background: var(--jp-layout-color0);  color: var(--jp-cell-editor-border-color);}\n",
       ".datatable .na {  color: var(--jp-cell-editor-border-color);  font-size: 80%;}\n",
       ".datatable .sp {  opacity: 0.25;}\n",
       ".datatable .footer { font-size: 9px; }\n",
       ".datatable .frame_dimensions {  background: var(--jp-border-color3);  border-top: 1px solid var(--jp-border-color0);  color: var(--jp-ui-font-color3);  display: inline-block;  opacity: 0.6;  padding: 1px 10px 1px 5px;}\n",
       "</style>\n"
      ],
      "text/plain": [
       "<IPython.core.display.HTML object>"
      ]
     },
     "metadata": {},
     "output_type": "display_data"
    }
   ],
   "source": [
    "import histdatacom\n",
    "from histdatacom.options import Options"
   ]
  },
  {
   "cell_type": "code",
   "execution_count": 2,
   "metadata": {},
   "outputs": [],
   "source": [
    "options = Options()"
   ]
  },
  {
   "cell_type": "code",
   "execution_count": 3,
   "metadata": {},
   "outputs": [],
   "source": [
    "options.api_return_type = \"datatable\"\n",
    "options.formats = {\"ascii\"}\n",
    "options.timeframes = {\"tick-data-quotes\"}\n",
    "options.pairs = {\"cadchf\"}\n",
    "options.start_yearmonth = \"2022-04\"\n",
    "options.end_yearmonth = \"now\"\n",
    "options.cpu_utilization = \"high\""
   ]
  },
  {
   "cell_type": "code",
   "execution_count": 4,
   "metadata": {},
   "outputs": [
    {
     "data": {
      "text/html": [
       "<pre style=\"white-space:pre;overflow-x:auto;line-height:normal;font-family:Menlo,'DejaVu Sans Mono',consolas,'Courier New',monospace\"><span style=\"color: #008080; text-decoration-color: #008080\">Merging 4 records...</span> <span style=\"color: #3a3a3a; text-decoration-color: #3a3a3a\">━━━━━━━━━━━━━━━━━━━━━━━━━━━━━━━━━━━━━━━━</span> <span style=\"color: #800080; text-decoration-color: #800080\">  0%</span> <span style=\"color: #808000; text-decoration-color: #808000\">0:00:00</span>\n",
       "</pre>\n"
      ],
      "text/plain": [
       "\u001b[36mMerging 4 records...\u001b[0m \u001b[38;5;237m━━━━━━━━━━━━━━━━━━━━━━━━━━━━━━━━━━━━━━━━\u001b[0m \u001b[35m  0%\u001b[0m \u001b[33m0:00:00\u001b[0m\n"
      ]
     },
     "metadata": {},
     "output_type": "display_data"
    },
    {
     "data": {
      "text/html": [
       "<pre style=\"white-space:pre;overflow-x:auto;line-height:normal;font-family:Menlo,'DejaVu Sans Mono',consolas,'Courier New',monospace\"></pre>\n"
      ],
      "text/plain": []
     },
     "metadata": {},
     "output_type": "display_data"
    },
    {
     "data": {
      "text/html": [
       "<pre style=\"white-space:pre;overflow-x:auto;line-height:normal;font-family:Menlo,'DejaVu Sans Mono',consolas,'Courier New',monospace\">\n",
       "</pre>\n"
      ],
      "text/plain": [
       "\n"
      ]
     },
     "metadata": {},
     "output_type": "display_data"
    }
   ],
   "source": [
    "data = histdatacom(options)  # (Jupyter)"
   ]
  },
  {
   "cell_type": "code",
   "execution_count": 5,
   "metadata": {},
   "outputs": [
    {
     "name": "stdout",
     "output_type": "stream",
     "text": [
      "      |      datetime     open     high      low    close    vol\n",
      "      |         int64  float64  float64  float64  float64  int32\n",
      "----- + -------------  -------  -------  -------  -------  -----\n",
      "    0 | 1648789200000  0.74014  0.74016  0.73994  0.74001      0\n",
      "    1 | 1648789260000  0.74002  0.74002  0.73994  0.73999      0\n",
      "    2 | 1648789320000  0.73997  0.74001  0.73997  0.74         0\n",
      "    3 | 1648789380000  0.73999  0.74016  0.73999  0.74012      0\n",
      "    4 | 1648789440000  0.74013  0.74015  0.74003  0.74007      0\n",
      "    5 | 1648789500000  0.74006  0.7401   0.74006  0.74009      0\n",
      "    6 | 1648789560000  0.74009  0.74014  0.74007  0.74009      0\n",
      "    7 | 1648789620000  0.74008  0.74011  0.74008  0.74011      0\n",
      "    8 | 1648789680000  0.7401   0.74016  0.7401   0.74016      0\n",
      "    9 | 1648789740000  0.74016  0.74016  0.74013  0.74014      0\n",
      "   10 | 1648789800000  0.74013  0.74014  0.74008  0.7401       0\n",
      "   11 | 1648789860000  0.74012  0.74015  0.74009  0.74015      0\n",
      "   12 | 1648789920000  0.74013  0.74014  0.74006  0.74009      0\n",
      "   13 | 1648789980000  0.74009  0.74018  0.74009  0.74016      0\n",
      "   14 | 1648790040000  0.74014  0.74016  0.74013  0.74014      0\n",
      "    … |             …        …        …        …        …      …\n",
      "22254 | 1650664440000  0.75245  0.75245  0.75222  0.75222      0\n",
      "22255 | 1650664500000  0.75222  0.75235  0.75221  0.75235      0\n",
      "22256 | 1650664560000  0.75235  0.75252  0.75231  0.75249      0\n",
      "22257 | 1650664620000  0.75249  0.75259  0.75241  0.75255      0\n",
      "22258 | 1650664680000  0.75258  0.75273  0.75249  0.75269      0\n",
      "[22259 rows x 6 columns]\n",
      "\n",
      "<class 'datatable.Frame'>\n"
     ]
    }
   ],
   "source": [
    "print(data)\n",
    "print(type(data))"
   ]
  },
  {
   "cell_type": "code",
   "execution_count": 6,
   "metadata": {},
   "outputs": [],
   "source": [
    "# print(data[0]['timeframe'], data[0]['pair'])\n",
    "# print(data[0]['data'])\n",
    "# print(type(data[0]['data']))"
   ]
  },
  {
   "cell_type": "code",
   "execution_count": 7,
   "metadata": {},
   "outputs": [],
   "source": [
    "import datatable as dt\n",
    "from datatable import f\n",
    "from datatable import update"
   ]
  },
  {
   "cell_type": "code",
   "execution_count": 8,
   "metadata": {},
   "outputs": [
    {
     "name": "stdout",
     "output_type": "stream",
     "text": [
      "      |      datetime     open     high      low    close    vol\n",
      "      |         int64  float64  float64  float64  float64  int32\n",
      "----- + -------------  -------  -------  -------  -------  -----\n",
      "    0 | 1648789200000  0.74014  0.74016  0.73994  0.74001      0\n",
      "    1 | 1648789260000  0.74002  0.74002  0.73994  0.73999      0\n",
      "    2 | 1648789320000  0.73997  0.74001  0.73997  0.74         0\n",
      "    3 | 1648789380000  0.73999  0.74016  0.73999  0.74012      0\n",
      "    4 | 1648789440000  0.74013  0.74015  0.74003  0.74007      0\n",
      "    5 | 1648789500000  0.74006  0.7401   0.74006  0.74009      0\n",
      "    6 | 1648789560000  0.74009  0.74014  0.74007  0.74009      0\n",
      "    7 | 1648789620000  0.74008  0.74011  0.74008  0.74011      0\n",
      "    8 | 1648789680000  0.7401   0.74016  0.7401   0.74016      0\n",
      "    9 | 1648789740000  0.74016  0.74016  0.74013  0.74014      0\n",
      "   10 | 1648789800000  0.74013  0.74014  0.74008  0.7401       0\n",
      "   11 | 1648789860000  0.74012  0.74015  0.74009  0.74015      0\n",
      "   12 | 1648789920000  0.74013  0.74014  0.74006  0.74009      0\n",
      "   13 | 1648789980000  0.74009  0.74018  0.74009  0.74016      0\n",
      "   14 | 1648790040000  0.74014  0.74016  0.74013  0.74014      0\n",
      "    … |             …        …        …        …        …      …\n",
      "22254 | 1650664440000  0.75245  0.75245  0.75222  0.75222      0\n",
      "22255 | 1650664500000  0.75222  0.75235  0.75221  0.75235      0\n",
      "22256 | 1650664560000  0.75235  0.75252  0.75231  0.75249      0\n",
      "22257 | 1650664620000  0.75249  0.75259  0.75241  0.75255      0\n",
      "22258 | 1650664680000  0.75258  0.75273  0.75249  0.75269      0\n",
      "[22259 rows x 6 columns]\n",
      "\n"
     ]
    }
   ],
   "source": [
    "DT = data.copy()\n",
    "print(DT)"
   ]
  },
  {
   "cell_type": "code",
   "execution_count": 9,
   "metadata": {},
   "outputs": [],
   "source": [
    "\n",
    "\n",
    "dt_timestamp_to_datetime = ((f.datetime * 10**6).as_type(dt.Type.time64))"
   ]
  },
  {
   "cell_type": "code",
   "execution_count": 10,
   "metadata": {},
   "outputs": [
    {
     "data": {
      "text/plain": [
       "('datetime', 'open', 'high', 'low', 'close', 'vol')"
      ]
     },
     "execution_count": 10,
     "metadata": {},
     "output_type": "execute_result"
    }
   ],
   "source": [
    "DT.names"
   ]
  },
  {
   "cell_type": "code",
   "execution_count": 11,
   "metadata": {},
   "outputs": [],
   "source": [
    "DT = data.copy()\n",
    "DT[:, update(datetime = dt_timestamp_to_datetime)]"
   ]
  },
  {
   "cell_type": "code",
   "execution_count": 12,
   "metadata": {},
   "outputs": [
    {
     "name": "stdout",
     "output_type": "stream",
     "text": [
      "      | datetime                open     high      low    close    vol\n",
      "      | time64               float64  float64  float64  float64  int32\n",
      "----- + -------------------  -------  -------  -------  -------  -----\n",
      "    0 | 2022-04-01T05:00:00  0.74014  0.74016  0.73994  0.74001      0\n",
      "    1 | 2022-04-01T05:01:00  0.74002  0.74002  0.73994  0.73999      0\n",
      "    2 | 2022-04-01T05:02:00  0.73997  0.74001  0.73997  0.74         0\n",
      "    3 | 2022-04-01T05:03:00  0.73999  0.74016  0.73999  0.74012      0\n",
      "    4 | 2022-04-01T05:04:00  0.74013  0.74015  0.74003  0.74007      0\n",
      "    5 | 2022-04-01T05:05:00  0.74006  0.7401   0.74006  0.74009      0\n",
      "    6 | 2022-04-01T05:06:00  0.74009  0.74014  0.74007  0.74009      0\n",
      "    7 | 2022-04-01T05:07:00  0.74008  0.74011  0.74008  0.74011      0\n",
      "    8 | 2022-04-01T05:08:00  0.7401   0.74016  0.7401   0.74016      0\n",
      "    9 | 2022-04-01T05:09:00  0.74016  0.74016  0.74013  0.74014      0\n",
      "   10 | 2022-04-01T05:10:00  0.74013  0.74014  0.74008  0.7401       0\n",
      "   11 | 2022-04-01T05:11:00  0.74012  0.74015  0.74009  0.74015      0\n",
      "   12 | 2022-04-01T05:12:00  0.74013  0.74014  0.74006  0.74009      0\n",
      "   13 | 2022-04-01T05:13:00  0.74009  0.74018  0.74009  0.74016      0\n",
      "   14 | 2022-04-01T05:14:00  0.74014  0.74016  0.74013  0.74014      0\n",
      "    … | …                          …        …        …        …      …\n",
      "22254 | 2022-04-22T21:54:00  0.75245  0.75245  0.75222  0.75222      0\n",
      "22255 | 2022-04-22T21:55:00  0.75222  0.75235  0.75221  0.75235      0\n",
      "22256 | 2022-04-22T21:56:00  0.75235  0.75252  0.75231  0.75249      0\n",
      "22257 | 2022-04-22T21:57:00  0.75249  0.75259  0.75241  0.75255      0\n",
      "22258 | 2022-04-22T21:58:00  0.75258  0.75273  0.75249  0.75269      0\n",
      "[22259 rows x 6 columns]\n",
      "\n"
     ]
    }
   ],
   "source": [
    "print(DT)\n"
   ]
  },
  {
   "cell_type": "code",
   "execution_count": null,
   "metadata": {},
   "outputs": [],
   "source": []
  },
  {
   "cell_type": "code",
   "execution_count": 13,
   "metadata": {},
   "outputs": [],
   "source": [
    "# from histdatacom.influx import _Influx\n",
    "\n",
    "# # 20220201 001817193,0.658910,0.659050,0\n",
    "# row = {\n",
    "#     'msSinceEpochUTC': \"20220401 000000302\",\n",
    "#     'bidQuote': \"0.740140\",\n",
    "#     'askQuote': \"0.740380\",\n",
    "#     \"vol\": \"0\"\n",
    "# }\n",
    "\n",
    "# print(_Influx.convert_datetime_to_utc_timestamp(\"ASCII\",\"T\", row))\n",
    "# # f\"openbid={row['openBid']},highbid={row['highBid']},lowbid={row['lowBid']},closebid={row['closeBid']}\".replace(\" \", \"\")\n",
    "# print(DT[0, datetime])\n",
    "\n",
    "# print(1648789200302 == 1648789200302)"
   ]
  },
  {
   "cell_type": "code",
   "execution_count": 14,
   "metadata": {},
   "outputs": [],
   "source": [
    "# row = {\n",
    "#     'secSinceEpochUTC': \"20150707 182400\",\n",
    "#     'openBid': \"17668.000000\",\n",
    "#     'highBid': \"17668.000000\",\n",
    "#     'lowbid': \"17668.000000\",\n",
    "#     'closeBid': \"17668.000000\",\n",
    "#     \"vol\": \"0\"\n",
    "# }\n",
    "\n",
    "# print(_Influx.convert_datetime_to_utc_timestamp(\"ASCII\",\"M1\", row))"
   ]
  }
 ],
 "metadata": {
  "interpreter": {
   "hash": "24865e6352e796dd493759130793adc760420b49598acb5b9faafcaf76156ec0"
  },
  "kernelspec": {
   "display_name": "Python 3.10.4 ('venv': venv)",
   "language": "python",
   "name": "python3"
  },
  "language_info": {
   "codemirror_mode": {
    "name": "ipython",
    "version": 3
   },
   "file_extension": ".py",
   "mimetype": "text/x-python",
   "name": "python",
   "nbconvert_exporter": "python",
   "pygments_lexer": "ipython3",
   "version": "3.10.4"
  },
  "orig_nbformat": 4
 },
 "nbformat": 4,
 "nbformat_minor": 2
}
