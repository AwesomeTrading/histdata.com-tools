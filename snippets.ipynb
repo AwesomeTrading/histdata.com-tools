{
 "cells": [
  {
   "cell_type": "code",
   "execution_count": null,
   "metadata": {},
   "outputs": [],
   "source": [
    "import histdatacom\n",
    "from histdatacom.options import Options"
   ]
  },
  {
   "cell_type": "code",
   "execution_count": null,
   "metadata": {},
   "outputs": [],
   "source": [
    "options = Options()"
   ]
  },
  {
   "cell_type": "code",
   "execution_count": null,
   "metadata": {},
   "outputs": [],
   "source": [
    "options.api_return_type = \"datatable\"\n",
    "options.formats = {\"ascii\"}\n",
    "options.timeframes = {\"tick-data-quotes\"}\n",
    "options.pairs = {\"cadchf\"}\n",
    "options.start_yearmonth = \"2022-04\"\n",
    "options.end_yearmonth = \"now\"\n",
    "options.cpu_utilization = \"high\""
   ]
  },
  {
   "cell_type": "code",
   "execution_count": null,
   "metadata": {},
   "outputs": [],
   "source": [
    "data = histdatacom(options)  # (Jupyter)"
   ]
  },
  {
   "cell_type": "code",
   "execution_count": null,
   "metadata": {},
   "outputs": [],
   "source": [
    "print(data)\n",
    "print(type(data))"
   ]
  },
  {
   "cell_type": "code",
   "execution_count": null,
   "metadata": {},
   "outputs": [],
   "source": [
    "# print(data[0]['timeframe'], data[0]['pair'])\n",
    "# print(data[0]['data'])\n",
    "# print(type(data[0]['data']))"
   ]
  },
  {
   "cell_type": "code",
   "execution_count": null,
   "metadata": {},
   "outputs": [],
   "source": [
    "import datatable as dt\n",
    "from datatable import f\n",
    "from datatable import update"
   ]
  },
  {
   "cell_type": "code",
   "execution_count": null,
   "metadata": {},
   "outputs": [],
   "source": [
    "DT = data.copy()\n",
    "print(DT)"
   ]
  },
  {
   "cell_type": "code",
   "execution_count": null,
   "metadata": {},
   "outputs": [],
   "source": [
    "\n",
    "\n",
    "dt_timestamp_to_datetime = ((f.datetime * 10**6).as_type(dt.Type.time64))"
   ]
  },
  {
   "cell_type": "code",
   "execution_count": null,
   "metadata": {},
   "outputs": [],
   "source": [
    "DT.names"
   ]
  },
  {
   "cell_type": "code",
   "execution_count": null,
   "metadata": {},
   "outputs": [],
   "source": [
    "DT = data.copy()\n",
    "DT[:, update(datetime = dt_timestamp_to_datetime)]"
   ]
  },
  {
   "cell_type": "code",
   "execution_count": null,
   "metadata": {},
   "outputs": [],
   "source": [
    "print(DT)\n"
   ]
  },
  {
   "cell_type": "code",
   "execution_count": null,
   "metadata": {},
   "outputs": [],
   "source": []
  },
  {
   "cell_type": "code",
   "execution_count": null,
   "metadata": {},
   "outputs": [],
   "source": [
    "# from histdatacom.influx import _Influx\n",
    "\n",
    "# # 20220201 001817193,0.658910,0.659050,0\n",
    "# row = {\n",
    "#     'msSinceEpochUTC': \"20220401 000000302\",\n",
    "#     'bidQuote': \"0.740140\",\n",
    "#     'askQuote': \"0.740380\",\n",
    "#     \"vol\": \"0\"\n",
    "# }\n",
    "\n",
    "# print(_Influx.convert_datetime_to_utc_timestamp(\"ASCII\",\"T\", row))\n",
    "# # f\"openbid={row['openBid']},highbid={row['highBid']},lowbid={row['lowBid']},closebid={row['closeBid']}\".replace(\" \", \"\")\n",
    "# print(DT[0, datetime])\n",
    "\n",
    "# print(1648789200302 == 1648789200302)"
   ]
  },
  {
   "cell_type": "code",
   "execution_count": null,
   "metadata": {},
   "outputs": [],
   "source": [
    "# row = {\n",
    "#     'secSinceEpochUTC': \"20150707 182400\",\n",
    "#     'openBid': \"17668.000000\",\n",
    "#     'highBid': \"17668.000000\",\n",
    "#     'lowbid': \"17668.000000\",\n",
    "#     'closeBid': \"17668.000000\",\n",
    "#     \"vol\": \"0\"\n",
    "# }\n",
    "\n",
    "# print(_Influx.convert_datetime_to_utc_timestamp(\"ASCII\",\"M1\", row))"
   ]
  }
 ],
 "metadata": {
  "interpreter": {
   "hash": "24865e6352e796dd493759130793adc760420b49598acb5b9faafcaf76156ec0"
  },
  "kernelspec": {
   "display_name": "Python 3.10.4 ('venv': venv)",
   "language": "python",
   "name": "python3"
  },
  "language_info": {
   "codemirror_mode": {
    "name": "ipython",
    "version": 3
   },
   "file_extension": ".py",
   "mimetype": "text/x-python",
   "name": "python",
   "nbconvert_exporter": "python",
   "pygments_lexer": "ipython3",
   "version": "3.10.4"
  },
  "orig_nbformat": 4
 },
 "nbformat": 4,
 "nbformat_minor": 2
}
